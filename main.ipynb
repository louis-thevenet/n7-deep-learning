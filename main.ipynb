{
 "cells": [
  {
   "cell_type": "code",
   "execution_count": 1,
   "id": "9e02eaf5-afc6-431e-9595-66008b03aa2f",
   "metadata": {},
   "outputs": [
    {
     "name": "stdout",
     "output_type": "stream",
     "text": [
      "File already exists : data/proverbs_db.txt\n",
      "Removed duplicates from data/proverbs_db.txt\n",
      "File already exists : data/proverbs_digest.txt\n",
      "Removed duplicates from data/proverbs_digest.txt\n"
     ]
    }
   ],
   "source": [
    "import lib\n",
    "\n",
    "proverbs = lib.load_data()"
   ]
  },
  {
   "cell_type": "code",
   "execution_count": 3,
   "id": "715fe0d1-5aba-4220-8cc4-3217bca95f27",
   "metadata": {},
   "outputs": [
    {
     "name": "stdout",
     "output_type": "stream",
     "text": [
      "Soft fire makes sweet malt.\n",
      "Old praise dies unless you feed it.\n",
      "All are not merry that dance lightly.\n",
      "3208 proverbs\n"
     ]
    }
   ],
   "source": [
    "print(proverbs[0])\n",
    "print(proverbs[1])\n",
    "print(proverbs[2])\n",
    "\n",
    "print(len(proverbs), \"proverbs\")"
   ]
  },
  {
   "cell_type": "code",
   "execution_count": null,
   "id": "bb3235a2-f5bc-4a63-a760-e35c21206b48",
   "metadata": {},
   "outputs": [],
   "source": []
  }
 ],
 "metadata": {
  "kernelspec": {
   "display_name": "Python 3 (ipykernel)",
   "language": "python",
   "name": "python3"
  },
  "language_info": {
   "codemirror_mode": {
    "name": "ipython",
    "version": 3
   },
   "file_extension": ".py",
   "mimetype": "text/x-python",
   "name": "python",
   "nbconvert_exporter": "python",
   "pygments_lexer": "ipython3",
   "version": "3.12.9"
  }
 },
 "nbformat": 4,
 "nbformat_minor": 5
}
