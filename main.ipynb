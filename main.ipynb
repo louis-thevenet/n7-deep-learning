{
 "cells": [
  {
   "cell_type": "code",
   "execution_count": 1,
   "id": "9e02eaf5-afc6-431e-9595-66008b03aa2f",
   "metadata": {},
   "outputs": [],
   "source": [
    "import make_dataset\n",
    "\n",
    "proverbs = make_dataset.load_data()\n"
   ]
  },
  {
   "cell_type": "code",
   "execution_count": 10,
   "id": "715fe0d1-5aba-4220-8cc4-3217bca95f27",
   "metadata": {},
   "outputs": [
    {
     "name": "stdout",
     "output_type": "stream",
     "text": [
      "proverbs_db_only_english.txt: 2208 proverbs\n",
      "proverbs_digest.txt: 1000 proverbs\n",
      "proverbs_db.txt: 34142 proverbs\n",
      "Total: 37350 proverbs\n",
      "\n",
      "\n",
      "Examples of proverbs:\n",
      "He that brings good news, knocks hard.\n",
      "Anger and haste hinder good counsel.\n",
      "Big thunder, little rain.\n",
      "Romeo must die in order to save the love.\n",
      "The point is plain as a pike staff.\n"
     ]
    }
   ],
   "source": [
    "for key in proverbs:\n",
    "    print(f\"{key}: {len(proverbs[key])} proverbs\")\n",
    "print(f\"Total: {sum(len(proverbs[key]) for key in proverbs)} proverbs\")\n",
    "\n",
    "print(\"\\n\\nExamples of proverbs:\")\n",
    "key = list(proverbs.keys())[0]\n",
    "for i in range(5):\n",
    "    print(proverbs[key][i])\n"
   ]
  },
  {
   "cell_type": "code",
   "execution_count": null,
   "id": "bb3235a2-f5bc-4a63-a760-e35c21206b48",
   "metadata": {},
   "outputs": [],
   "source": []
  }
 ],
 "metadata": {
  "kernelspec": {
   "display_name": "Python 3 (ipykernel)",
   "language": "python",
   "name": "python3"
  },
  "language_info": {
   "codemirror_mode": {
    "name": "ipython",
    "version": 3
   },
   "file_extension": ".py",
   "mimetype": "text/x-python",
   "name": "python",
   "nbconvert_exporter": "python",
   "pygments_lexer": "ipython3",
   "version": "3.12.9"
  }
 },
 "nbformat": 4,
 "nbformat_minor": 5
}
